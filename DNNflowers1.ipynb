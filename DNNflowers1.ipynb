{
  "nbformat": 4,
  "nbformat_minor": 0,
  "metadata": {
    "colab": {
      "name": "Untitled1.ipynb",
      "provenance": [],
      "authorship_tag": "ABX9TyOloVSxqihyLBqnboNPoicG",
      "include_colab_link": true
    },
    "kernelspec": {
      "name": "python3",
      "display_name": "Python 3"
    }
  },
  "cells": [
    {
      "cell_type": "markdown",
      "metadata": {
        "id": "view-in-github",
        "colab_type": "text"
      },
      "source": [
        "<a href=\"https://colab.research.google.com/github/DhayalanCS/TensorFlow/blob/main/DNNflowers1.ipynb\" target=\"_parent\"><img src=\"https://colab.research.google.com/assets/colab-badge.svg\" alt=\"Open In Colab\"/></a>"
      ]
    },
    {
      "cell_type": "code",
      "metadata": {
        "colab": {
          "base_uri": "https://localhost:8080/",
          "height": 202
        },
        "id": "tUYYiowV4Aav",
        "outputId": "ec094a88-e610-4f79-885f-81da1d7a1a95"
      },
      "source": [
        "%tensorflow_version 2.x\r\n",
        "from __future__ import absolute_import, division, print_function, unicode_literals\r\n",
        "\r\n",
        "\r\n",
        "import tensorflow as tf\r\n",
        "\r\n",
        "import pandas as pd\r\n",
        "CSV_COLUMN_NAMES = ['SepalLength', 'SepalWidth', 'PetalLength', 'PetalWidth', 'Species']\r\n",
        "SPECIES = ['Setosa', 'Versicolor', 'Virginica']\r\n",
        "# Lets define some constants to help us later on\r\n",
        "\r\n",
        "train_path = tf.keras.utils.get_file(\r\n",
        "    \"iris_training.csv\", \"https://storage.googleapis.com/download.tensorflow.org/data/iris_training.csv\")\r\n",
        "test_path = tf.keras.utils.get_file(\r\n",
        "    \"iris_test.csv\", \"https://storage.googleapis.com/download.tensorflow.org/data/iris_test.csv\")\r\n",
        "\r\n",
        "train = pd.read_csv(train_path, names=CSV_COLUMN_NAMES, header=0)\r\n",
        "test = pd.read_csv(test_path, names=CSV_COLUMN_NAMES, header=0)\r\n",
        "# Here we use keras (a module inside of TensorFlow) to grab our datasets and read them into a pandas dataframe\r\n",
        "\r\n",
        "train_y = train.pop('Species')\r\n",
        "test_y = test.pop('Species')\r\n",
        "train.head()\r\n",
        "\r\n"
      ],
      "execution_count": null,
      "outputs": [
        {
          "output_type": "execute_result",
          "data": {
            "text/html": [
              "<div>\n",
              "<style scoped>\n",
              "    .dataframe tbody tr th:only-of-type {\n",
              "        vertical-align: middle;\n",
              "    }\n",
              "\n",
              "    .dataframe tbody tr th {\n",
              "        vertical-align: top;\n",
              "    }\n",
              "\n",
              "    .dataframe thead th {\n",
              "        text-align: right;\n",
              "    }\n",
              "</style>\n",
              "<table border=\"1\" class=\"dataframe\">\n",
              "  <thead>\n",
              "    <tr style=\"text-align: right;\">\n",
              "      <th></th>\n",
              "      <th>SepalLength</th>\n",
              "      <th>SepalWidth</th>\n",
              "      <th>PetalLength</th>\n",
              "      <th>PetalWidth</th>\n",
              "    </tr>\n",
              "  </thead>\n",
              "  <tbody>\n",
              "    <tr>\n",
              "      <th>0</th>\n",
              "      <td>6.4</td>\n",
              "      <td>2.8</td>\n",
              "      <td>5.6</td>\n",
              "      <td>2.2</td>\n",
              "    </tr>\n",
              "    <tr>\n",
              "      <th>1</th>\n",
              "      <td>5.0</td>\n",
              "      <td>2.3</td>\n",
              "      <td>3.3</td>\n",
              "      <td>1.0</td>\n",
              "    </tr>\n",
              "    <tr>\n",
              "      <th>2</th>\n",
              "      <td>4.9</td>\n",
              "      <td>2.5</td>\n",
              "      <td>4.5</td>\n",
              "      <td>1.7</td>\n",
              "    </tr>\n",
              "    <tr>\n",
              "      <th>3</th>\n",
              "      <td>4.9</td>\n",
              "      <td>3.1</td>\n",
              "      <td>1.5</td>\n",
              "      <td>0.1</td>\n",
              "    </tr>\n",
              "    <tr>\n",
              "      <th>4</th>\n",
              "      <td>5.7</td>\n",
              "      <td>3.8</td>\n",
              "      <td>1.7</td>\n",
              "      <td>0.3</td>\n",
              "    </tr>\n",
              "  </tbody>\n",
              "</table>\n",
              "</div>"
            ],
            "text/plain": [
              "   SepalLength  SepalWidth  PetalLength  PetalWidth\n",
              "0          6.4         2.8          5.6         2.2\n",
              "1          5.0         2.3          3.3         1.0\n",
              "2          4.9         2.5          4.5         1.7\n",
              "3          4.9         3.1          1.5         0.1\n",
              "4          5.7         3.8          1.7         0.3"
            ]
          },
          "metadata": {
            "tags": []
          },
          "execution_count": 12
        }
      ]
    },
    {
      "cell_type": "code",
      "metadata": {
        "colab": {
          "base_uri": "https://localhost:8080/"
        },
        "id": "0u4UnUcY6Tbk",
        "outputId": "de76254e-1ae7-4ed7-e0a3-abfc433afe28"
      },
      "source": [
        "train.shape"
      ],
      "execution_count": null,
      "outputs": [
        {
          "output_type": "execute_result",
          "data": {
            "text/plain": [
              "(120, 4)"
            ]
          },
          "metadata": {
            "tags": []
          },
          "execution_count": 7
        }
      ]
    },
    {
      "cell_type": "code",
      "metadata": {
        "colab": {
          "base_uri": "https://localhost:8080/"
        },
        "id": "dr0_6tg27lHo",
        "outputId": "d6eb6f7d-b6c5-4a27-ddaa-123a0cc500f2"
      },
      "source": [
        "def input_fn(features, labels, training=True, batch_size=256):\r\n",
        "    # Convert the inputs to a Dataset.\r\n",
        "    dataset = tf.data.Dataset.from_tensor_slices((dict(features), labels))\r\n",
        "\r\n",
        "    # Shuffle and repeat if you are in training mode.\r\n",
        "    if training:\r\n",
        "        dataset = dataset.shuffle(1000).repeat()\r\n",
        "    \r\n",
        "    return dataset.batch(batch_size)\r\n",
        "\r\n",
        "# Feature columns describe how to use the input.\r\n",
        "my_feature_columns = []\r\n",
        "for key in train.keys():\r\n",
        "    my_feature_columns.append(tf.feature_column.numeric_column(key=key))\r\n",
        "print(my_feature_columns)\r\n",
        "\r\n",
        "# Build a DNN with 2 hidden layers with 30 and 10 hidden nodes each.\r\n",
        "classifier = tf.estimator.DNNClassifier(\r\n",
        "    feature_columns=my_feature_columns,\r\n",
        "    # Two hidden layers of 30 and 10 nodes respectively.\r\n",
        "    hidden_units=[30, 10],\r\n",
        "    # The model must choose between 3 classes.\r\n",
        "    n_classes=3)\r\n",
        "\r\n",
        "classifier.train(\r\n",
        "    input_fn=lambda: input_fn(train, train_y, training=True),\r\n",
        "    steps=5000)\r\n",
        "\r\n",
        "\r\n",
        "\r\n"
      ],
      "execution_count": null,
      "outputs": [
        {
          "output_type": "stream",
          "text": [
            "[NumericColumn(key='SepalLength', shape=(1,), default_value=None, dtype=tf.float32, normalizer_fn=None), NumericColumn(key='SepalWidth', shape=(1,), default_value=None, dtype=tf.float32, normalizer_fn=None), NumericColumn(key='PetalLength', shape=(1,), default_value=None, dtype=tf.float32, normalizer_fn=None), NumericColumn(key='PetalWidth', shape=(1,), default_value=None, dtype=tf.float32, normalizer_fn=None)]\n",
            "INFO:tensorflow:Using default config.\n",
            "WARNING:tensorflow:Using temporary folder as model directory: /tmp/tmpmper47hf\n",
            "INFO:tensorflow:Using config: {'_model_dir': '/tmp/tmpmper47hf', '_tf_random_seed': None, '_save_summary_steps': 100, '_save_checkpoints_steps': None, '_save_checkpoints_secs': 600, '_session_config': allow_soft_placement: true\n",
            "graph_options {\n",
            "  rewrite_options {\n",
            "    meta_optimizer_iterations: ONE\n",
            "  }\n",
            "}\n",
            ", '_keep_checkpoint_max': 5, '_keep_checkpoint_every_n_hours': 10000, '_log_step_count_steps': 100, '_train_distribute': None, '_device_fn': None, '_protocol': None, '_eval_distribute': None, '_experimental_distribute': None, '_experimental_max_worker_delay_secs': None, '_session_creation_timeout_secs': 7200, '_checkpoint_save_graph_def': True, '_service': None, '_cluster_spec': ClusterSpec({}), '_task_type': 'worker', '_task_id': 0, '_global_id_in_cluster': 0, '_master': '', '_evaluation_master': '', '_is_chief': True, '_num_ps_replicas': 0, '_num_worker_replicas': 1}\n",
            "INFO:tensorflow:Calling model_fn.\n",
            "INFO:tensorflow:Done calling model_fn.\n",
            "INFO:tensorflow:Create CheckpointSaverHook.\n",
            "INFO:tensorflow:Graph was finalized.\n",
            "INFO:tensorflow:Running local_init_op.\n",
            "INFO:tensorflow:Done running local_init_op.\n",
            "INFO:tensorflow:Calling checkpoint listeners before saving checkpoint 0...\n",
            "INFO:tensorflow:Saving checkpoints for 0 into /tmp/tmpmper47hf/model.ckpt.\n",
            "INFO:tensorflow:Calling checkpoint listeners after saving checkpoint 0...\n",
            "INFO:tensorflow:loss = 1.5533963, step = 0\n",
            "INFO:tensorflow:global_step/sec: 430.923\n",
            "INFO:tensorflow:loss = 0.8670443, step = 100 (0.235 sec)\n",
            "INFO:tensorflow:global_step/sec: 586.219\n",
            "INFO:tensorflow:loss = 0.7510948, step = 200 (0.171 sec)\n",
            "INFO:tensorflow:global_step/sec: 556.924\n",
            "INFO:tensorflow:loss = 0.69980067, step = 300 (0.181 sec)\n",
            "INFO:tensorflow:global_step/sec: 538.045\n",
            "INFO:tensorflow:loss = 0.6738899, step = 400 (0.186 sec)\n",
            "INFO:tensorflow:global_step/sec: 546.745\n",
            "INFO:tensorflow:loss = 0.64322966, step = 500 (0.183 sec)\n",
            "INFO:tensorflow:global_step/sec: 537.456\n",
            "INFO:tensorflow:loss = 0.62162524, step = 600 (0.186 sec)\n",
            "INFO:tensorflow:global_step/sec: 560.69\n",
            "INFO:tensorflow:loss = 0.6082463, step = 700 (0.178 sec)\n",
            "INFO:tensorflow:global_step/sec: 568.05\n",
            "INFO:tensorflow:loss = 0.5933357, step = 800 (0.175 sec)\n",
            "INFO:tensorflow:global_step/sec: 544.068\n",
            "INFO:tensorflow:loss = 0.57859904, step = 900 (0.183 sec)\n",
            "INFO:tensorflow:global_step/sec: 554.096\n",
            "INFO:tensorflow:loss = 0.5665912, step = 1000 (0.180 sec)\n",
            "INFO:tensorflow:global_step/sec: 541.446\n",
            "INFO:tensorflow:loss = 0.55173653, step = 1100 (0.185 sec)\n",
            "INFO:tensorflow:global_step/sec: 595.468\n",
            "INFO:tensorflow:loss = 0.5486959, step = 1200 (0.168 sec)\n",
            "INFO:tensorflow:global_step/sec: 569.284\n",
            "INFO:tensorflow:loss = 0.5368936, step = 1300 (0.176 sec)\n",
            "INFO:tensorflow:global_step/sec: 581.5\n",
            "INFO:tensorflow:loss = 0.53687084, step = 1400 (0.172 sec)\n",
            "INFO:tensorflow:global_step/sec: 593.535\n",
            "INFO:tensorflow:loss = 0.52621037, step = 1500 (0.169 sec)\n",
            "INFO:tensorflow:global_step/sec: 589.088\n",
            "INFO:tensorflow:loss = 0.5244769, step = 1600 (0.172 sec)\n",
            "INFO:tensorflow:global_step/sec: 575.777\n",
            "INFO:tensorflow:loss = 0.51125073, step = 1700 (0.172 sec)\n",
            "INFO:tensorflow:global_step/sec: 589.421\n",
            "INFO:tensorflow:loss = 0.5045419, step = 1800 (0.171 sec)\n",
            "INFO:tensorflow:global_step/sec: 579.896\n",
            "INFO:tensorflow:loss = 0.5069736, step = 1900 (0.173 sec)\n",
            "INFO:tensorflow:global_step/sec: 573.855\n",
            "INFO:tensorflow:loss = 0.48087895, step = 2000 (0.171 sec)\n",
            "INFO:tensorflow:global_step/sec: 557.406\n",
            "INFO:tensorflow:loss = 0.49199477, step = 2100 (0.180 sec)\n",
            "INFO:tensorflow:global_step/sec: 573.331\n",
            "INFO:tensorflow:loss = 0.48011935, step = 2200 (0.173 sec)\n",
            "INFO:tensorflow:global_step/sec: 542.736\n",
            "INFO:tensorflow:loss = 0.47683463, step = 2300 (0.185 sec)\n",
            "INFO:tensorflow:global_step/sec: 497.742\n",
            "INFO:tensorflow:loss = 0.48143542, step = 2400 (0.201 sec)\n",
            "INFO:tensorflow:global_step/sec: 541.934\n",
            "INFO:tensorflow:loss = 0.4594496, step = 2500 (0.184 sec)\n",
            "INFO:tensorflow:global_step/sec: 539.146\n",
            "INFO:tensorflow:loss = 0.46546704, step = 2600 (0.188 sec)\n",
            "INFO:tensorflow:global_step/sec: 563.848\n",
            "INFO:tensorflow:loss = 0.4505464, step = 2700 (0.175 sec)\n",
            "INFO:tensorflow:global_step/sec: 546.515\n",
            "INFO:tensorflow:loss = 0.44975686, step = 2800 (0.183 sec)\n",
            "INFO:tensorflow:global_step/sec: 551.182\n",
            "INFO:tensorflow:loss = 0.47025073, step = 2900 (0.187 sec)\n",
            "INFO:tensorflow:global_step/sec: 560.162\n",
            "INFO:tensorflow:loss = 0.44742727, step = 3000 (0.176 sec)\n",
            "INFO:tensorflow:global_step/sec: 564.681\n",
            "INFO:tensorflow:loss = 0.4498599, step = 3100 (0.177 sec)\n",
            "INFO:tensorflow:global_step/sec: 545.135\n",
            "INFO:tensorflow:loss = 0.43870047, step = 3200 (0.180 sec)\n",
            "INFO:tensorflow:global_step/sec: 544.744\n",
            "INFO:tensorflow:loss = 0.44655967, step = 3300 (0.187 sec)\n",
            "INFO:tensorflow:global_step/sec: 548.47\n",
            "INFO:tensorflow:loss = 0.43282136, step = 3400 (0.182 sec)\n",
            "INFO:tensorflow:global_step/sec: 561.764\n",
            "INFO:tensorflow:loss = 0.428352, step = 3500 (0.178 sec)\n",
            "INFO:tensorflow:global_step/sec: 552.71\n",
            "INFO:tensorflow:loss = 0.4263453, step = 3600 (0.178 sec)\n",
            "INFO:tensorflow:global_step/sec: 521.586\n",
            "INFO:tensorflow:loss = 0.42229986, step = 3700 (0.195 sec)\n",
            "INFO:tensorflow:global_step/sec: 510.706\n",
            "INFO:tensorflow:loss = 0.41810924, step = 3800 (0.193 sec)\n",
            "INFO:tensorflow:global_step/sec: 590.707\n",
            "INFO:tensorflow:loss = 0.4236532, step = 3900 (0.168 sec)\n",
            "INFO:tensorflow:global_step/sec: 604.408\n",
            "INFO:tensorflow:loss = 0.42621905, step = 4000 (0.169 sec)\n",
            "INFO:tensorflow:global_step/sec: 585.22\n",
            "INFO:tensorflow:loss = 0.41139004, step = 4100 (0.170 sec)\n",
            "INFO:tensorflow:global_step/sec: 561.408\n",
            "INFO:tensorflow:loss = 0.4139911, step = 4200 (0.176 sec)\n",
            "INFO:tensorflow:global_step/sec: 573.075\n",
            "INFO:tensorflow:loss = 0.39688474, step = 4300 (0.175 sec)\n",
            "INFO:tensorflow:global_step/sec: 544.545\n",
            "INFO:tensorflow:loss = 0.40486455, step = 4400 (0.186 sec)\n",
            "INFO:tensorflow:global_step/sec: 565.886\n",
            "INFO:tensorflow:loss = 0.40697283, step = 4500 (0.177 sec)\n",
            "INFO:tensorflow:global_step/sec: 577.325\n",
            "INFO:tensorflow:loss = 0.39605165, step = 4600 (0.172 sec)\n",
            "INFO:tensorflow:global_step/sec: 558.873\n",
            "INFO:tensorflow:loss = 0.38979134, step = 4700 (0.178 sec)\n",
            "INFO:tensorflow:global_step/sec: 579.615\n",
            "INFO:tensorflow:loss = 0.39650202, step = 4800 (0.174 sec)\n",
            "INFO:tensorflow:global_step/sec: 559.042\n",
            "INFO:tensorflow:loss = 0.39849097, step = 4900 (0.179 sec)\n",
            "INFO:tensorflow:Calling checkpoint listeners before saving checkpoint 5000...\n",
            "INFO:tensorflow:Saving checkpoints for 5000 into /tmp/tmpmper47hf/model.ckpt.\n",
            "INFO:tensorflow:Calling checkpoint listeners after saving checkpoint 5000...\n",
            "INFO:tensorflow:Loss for final step: 0.3925351.\n"
          ],
          "name": "stdout"
        },
        {
          "output_type": "execute_result",
          "data": {
            "text/plain": [
              "<tensorflow_estimator.python.estimator.canned.dnn.DNNClassifierV2 at 0x7f5288d76ba8>"
            ]
          },
          "metadata": {
            "tags": []
          },
          "execution_count": 15
        }
      ]
    },
    {
      "cell_type": "code",
      "metadata": {
        "colab": {
          "base_uri": "https://localhost:8080/"
        },
        "id": "_6sEbKcBA90G",
        "outputId": "d97a6769-a9f4-40e3-c83f-b08093c57533"
      },
      "source": [
        "\r\n",
        "# We include a lambda to avoid creating an inner function previously\r\n",
        "eval_result = classifier.evaluate(\r\n",
        "    input_fn=lambda: input_fn(test, test_y, training=False))\r\n",
        "\r\n",
        "print('\\nTest set accuracy: {accuracy:0.3f}\\n'.format(**eval_result))\r\n"
      ],
      "execution_count": null,
      "outputs": [
        {
          "output_type": "stream",
          "text": [
            "INFO:tensorflow:Calling model_fn.\n",
            "INFO:tensorflow:Done calling model_fn.\n",
            "INFO:tensorflow:Starting evaluation at 2020-12-27T21:04:45Z\n",
            "INFO:tensorflow:Graph was finalized.\n",
            "INFO:tensorflow:Restoring parameters from /tmp/tmpmper47hf/model.ckpt-5000\n",
            "INFO:tensorflow:Running local_init_op.\n",
            "INFO:tensorflow:Done running local_init_op.\n",
            "INFO:tensorflow:Inference Time : 0.20808s\n",
            "INFO:tensorflow:Finished evaluation at 2020-12-27-21:04:45\n",
            "INFO:tensorflow:Saving dict for global step 5000: accuracy = 0.8666667, average_loss = 0.47055978, global_step = 5000, loss = 0.47055978\n",
            "INFO:tensorflow:Saving 'checkpoint_path' summary for global step 5000: /tmp/tmpmper47hf/model.ckpt-5000\n",
            "\n",
            "Test set accuracy: 0.867\n",
            "\n"
          ],
          "name": "stdout"
        }
      ]
    },
    {
      "cell_type": "code",
      "metadata": {
        "id": "GLudyVlPBdDS"
      },
      "source": [
        "def input_fn(features, batch_size=256):\r\n",
        "    # Convert the inputs to a Dataset without labels.\r\n",
        "    return tf.data.Dataset.from_tensor_slices(dict(features)).batch(batch_size)\r\n",
        "\r\n",
        "features = ['SepalLength', 'SepalWidth', 'PetalLength', 'PetalWidth']\r\n",
        "predict = {}\r\n",
        "\r\n",
        "print(\"Please type numeric values as prompted.\")\r\n",
        "for feature in features:\r\n",
        "  valid = True\r\n",
        "  while valid: \r\n",
        "    val = input(feature + \": \")\r\n",
        "    if not val.isdigit(): valid = False\r\n",
        "\r\n",
        "  predict[feature] = [float(val)]\r\n",
        "\r\n",
        "predictions = classifier.predict(input_fn=lambda: input_fn(predict))\r\n",
        "for pred_dict in predictions:\r\n",
        "    class_id = pred_dict['class_ids'][0]\r\n",
        "    probability = pred_dict['probabilities'][class_id]\r\n",
        "\r\n",
        "    print('Prediction is \"{}\" ({:.1f}%)'.format(\r\n",
        "        SPECIES[class_id], 100 * probability))\r\n",
        " "
      ],
      "execution_count": null,
      "outputs": []
    }
  ]
}